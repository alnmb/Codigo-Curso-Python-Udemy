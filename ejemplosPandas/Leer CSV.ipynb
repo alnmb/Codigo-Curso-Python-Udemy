{
 "cells": [
  {
   "cell_type": "code",
   "execution_count": 3,
   "id": "62b29849",
   "metadata": {},
   "outputs": [],
   "source": [
    "import pandas as pd"
   ]
  },
  {
   "cell_type": "code",
   "execution_count": 4,
   "id": "7b23470f",
   "metadata": {},
   "outputs": [],
   "source": [
    "#pd.__version__"
   ]
  },
  {
   "cell_type": "code",
   "execution_count": 26,
   "id": "3e57eddc",
   "metadata": {},
   "outputs": [],
   "source": [
    "dataframe = pd.read_csv(r'/Users/alanmartinezblanco/Documents/Codigo Curso Python/documentosPandas/dataframeutf8.csv')\n"
   ]
  },
  {
   "cell_type": "code",
   "execution_count": 27,
   "id": "74529438",
   "metadata": {
    "scrolled": true
   },
   "outputs": [
    {
     "data": {
      "text/html": [
       "<div>\n",
       "<style scoped>\n",
       "    .dataframe tbody tr th:only-of-type {\n",
       "        vertical-align: middle;\n",
       "    }\n",
       "\n",
       "    .dataframe tbody tr th {\n",
       "        vertical-align: top;\n",
       "    }\n",
       "\n",
       "    .dataframe thead th {\n",
       "        text-align: right;\n",
       "    }\n",
       "</style>\n",
       "<table border=\"1\" class=\"dataframe\">\n",
       "  <thead>\n",
       "    <tr style=\"text-align: right;\">\n",
       "      <th></th>\n",
       "      <th>Nombre y apellido</th>\n",
       "      <th>Edad</th>\n",
       "      <th>País</th>\n",
       "      <th>Automovil</th>\n",
       "      <th>Vivienda</th>\n",
       "    </tr>\n",
       "  </thead>\n",
       "  <tbody>\n",
       "    <tr>\n",
       "      <th>0</th>\n",
       "      <td>Juan</td>\n",
       "      <td>35</td>\n",
       "      <td>Mexico</td>\n",
       "      <td>No</td>\n",
       "      <td>Si</td>\n",
       "    </tr>\n",
       "    <tr>\n",
       "      <th>1</th>\n",
       "      <td>Pedro</td>\n",
       "      <td>41</td>\n",
       "      <td>Honduras</td>\n",
       "      <td>Si</td>\n",
       "      <td>No</td>\n",
       "    </tr>\n",
       "    <tr>\n",
       "      <th>2</th>\n",
       "      <td>Maria</td>\n",
       "      <td>28</td>\n",
       "      <td>Peru</td>\n",
       "      <td>Si</td>\n",
       "      <td>Si</td>\n",
       "    </tr>\n",
       "    <tr>\n",
       "      <th>3</th>\n",
       "      <td>Laura</td>\n",
       "      <td>66</td>\n",
       "      <td>Argentina</td>\n",
       "      <td>No</td>\n",
       "      <td>No</td>\n",
       "    </tr>\n",
       "    <tr>\n",
       "      <th>4</th>\n",
       "      <td>Laura</td>\n",
       "      <td>66</td>\n",
       "      <td>Argentina</td>\n",
       "      <td>No</td>\n",
       "      <td>No</td>\n",
       "    </tr>\n",
       "    <tr>\n",
       "      <th>5</th>\n",
       "      <td>Alvaro</td>\n",
       "      <td>33</td>\n",
       "      <td>Peru</td>\n",
       "      <td>Si</td>\n",
       "      <td>No</td>\n",
       "    </tr>\n",
       "    <tr>\n",
       "      <th>6</th>\n",
       "      <td>Alan</td>\n",
       "      <td>29</td>\n",
       "      <td>Mexico</td>\n",
       "      <td>Si</td>\n",
       "      <td>Si</td>\n",
       "    </tr>\n",
       "    <tr>\n",
       "      <th>7</th>\n",
       "      <td>Magda</td>\n",
       "      <td>29</td>\n",
       "      <td>Mexico</td>\n",
       "      <td>No</td>\n",
       "      <td>Si</td>\n",
       "    </tr>\n",
       "  </tbody>\n",
       "</table>\n",
       "</div>"
      ],
      "text/plain": [
       "  Nombre y apellido  Edad       País Automovil Vivienda\n",
       "0              Juan    35     Mexico        No       Si\n",
       "1             Pedro    41   Honduras        Si       No\n",
       "2             Maria    28       Peru        Si       Si\n",
       "3             Laura    66  Argentina        No       No\n",
       "4             Laura    66  Argentina        No       No\n",
       "5            Alvaro    33       Peru        Si       No\n",
       "6              Alan    29     Mexico        Si       Si\n",
       "7             Magda    29     Mexico        No       Si"
      ]
     },
     "execution_count": 27,
     "metadata": {},
     "output_type": "execute_result"
    }
   ],
   "source": [
    "dataframe"
   ]
  },
  {
   "cell_type": "markdown",
   "id": "10ba440e",
   "metadata": {},
   "source": [
    "# Value counts"
   ]
  },
  {
   "cell_type": "code",
   "execution_count": null,
   "id": "ec9e61bc",
   "metadata": {},
   "outputs": [],
   "source": [
    "# value_counts te cuenta los valores repetidos en las columnas\n",
    "dataframe.Edad.value_counts()"
   ]
  },
  {
   "cell_type": "code",
   "execution_count": 15,
   "id": "ff7df050",
   "metadata": {},
   "outputs": [
    {
     "data": {
      "text/plain": [
       "No    2\n",
       "Si    2\n",
       "Name: Automovil, dtype: int64"
      ]
     },
     "execution_count": 15,
     "metadata": {},
     "output_type": "execute_result"
    }
   ],
   "source": [
    "dataframe.Automovil.value_counts()"
   ]
  },
  {
   "cell_type": "code",
   "execution_count": 17,
   "id": "1e520871",
   "metadata": {},
   "outputs": [
    {
     "data": {
      "text/plain": [
       "Mexico       1\n",
       "Honduras     1\n",
       "Peru         1\n",
       "Argentina    1\n",
       "Name: País, dtype: int64"
      ]
     },
     "execution_count": 17,
     "metadata": {},
     "output_type": "execute_result"
    }
   ],
   "source": [
    "dataframe.País.value_counts()"
   ]
  },
  {
   "cell_type": "markdown",
   "id": "547ea16e",
   "metadata": {},
   "source": [
    "# sort values"
   ]
  },
  {
   "cell_type": "code",
   "execution_count": 28,
   "id": "b3a3a391",
   "metadata": {},
   "outputs": [
    {
     "data": {
      "text/html": [
       "<div>\n",
       "<style scoped>\n",
       "    .dataframe tbody tr th:only-of-type {\n",
       "        vertical-align: middle;\n",
       "    }\n",
       "\n",
       "    .dataframe tbody tr th {\n",
       "        vertical-align: top;\n",
       "    }\n",
       "\n",
       "    .dataframe thead th {\n",
       "        text-align: right;\n",
       "    }\n",
       "</style>\n",
       "<table border=\"1\" class=\"dataframe\">\n",
       "  <thead>\n",
       "    <tr style=\"text-align: right;\">\n",
       "      <th></th>\n",
       "      <th>Nombre y apellido</th>\n",
       "      <th>Edad</th>\n",
       "      <th>País</th>\n",
       "      <th>Automovil</th>\n",
       "      <th>Vivienda</th>\n",
       "    </tr>\n",
       "  </thead>\n",
       "  <tbody>\n",
       "    <tr>\n",
       "      <th>2</th>\n",
       "      <td>Maria</td>\n",
       "      <td>28</td>\n",
       "      <td>Peru</td>\n",
       "      <td>Si</td>\n",
       "      <td>Si</td>\n",
       "    </tr>\n",
       "    <tr>\n",
       "      <th>6</th>\n",
       "      <td>Alan</td>\n",
       "      <td>29</td>\n",
       "      <td>Mexico</td>\n",
       "      <td>Si</td>\n",
       "      <td>Si</td>\n",
       "    </tr>\n",
       "    <tr>\n",
       "      <th>7</th>\n",
       "      <td>Magda</td>\n",
       "      <td>29</td>\n",
       "      <td>Mexico</td>\n",
       "      <td>No</td>\n",
       "      <td>Si</td>\n",
       "    </tr>\n",
       "    <tr>\n",
       "      <th>5</th>\n",
       "      <td>Alvaro</td>\n",
       "      <td>33</td>\n",
       "      <td>Peru</td>\n",
       "      <td>Si</td>\n",
       "      <td>No</td>\n",
       "    </tr>\n",
       "    <tr>\n",
       "      <th>0</th>\n",
       "      <td>Juan</td>\n",
       "      <td>35</td>\n",
       "      <td>Mexico</td>\n",
       "      <td>No</td>\n",
       "      <td>Si</td>\n",
       "    </tr>\n",
       "    <tr>\n",
       "      <th>1</th>\n",
       "      <td>Pedro</td>\n",
       "      <td>41</td>\n",
       "      <td>Honduras</td>\n",
       "      <td>Si</td>\n",
       "      <td>No</td>\n",
       "    </tr>\n",
       "    <tr>\n",
       "      <th>3</th>\n",
       "      <td>Laura</td>\n",
       "      <td>66</td>\n",
       "      <td>Argentina</td>\n",
       "      <td>No</td>\n",
       "      <td>No</td>\n",
       "    </tr>\n",
       "    <tr>\n",
       "      <th>4</th>\n",
       "      <td>Laura</td>\n",
       "      <td>66</td>\n",
       "      <td>Argentina</td>\n",
       "      <td>No</td>\n",
       "      <td>No</td>\n",
       "    </tr>\n",
       "  </tbody>\n",
       "</table>\n",
       "</div>"
      ],
      "text/plain": [
       "  Nombre y apellido  Edad       País Automovil Vivienda\n",
       "2             Maria    28       Peru        Si       Si\n",
       "6              Alan    29     Mexico        Si       Si\n",
       "7             Magda    29     Mexico        No       Si\n",
       "5            Alvaro    33       Peru        Si       No\n",
       "0              Juan    35     Mexico        No       Si\n",
       "1             Pedro    41   Honduras        Si       No\n",
       "3             Laura    66  Argentina        No       No\n",
       "4             Laura    66  Argentina        No       No"
      ]
     },
     "execution_count": 28,
     "metadata": {},
     "output_type": "execute_result"
    }
   ],
   "source": [
    "#sort value, ordena la informacion\n",
    "dataframe.sort_values(by=[\"Edad\"])"
   ]
  },
  {
   "cell_type": "markdown",
   "id": "b03ae3ed",
   "metadata": {},
   "source": [
    "# Filter values"
   ]
  },
  {
   "cell_type": "code",
   "execution_count": 29,
   "id": "83efffa3",
   "metadata": {},
   "outputs": [
    {
     "data": {
      "text/html": [
       "<div>\n",
       "<style scoped>\n",
       "    .dataframe tbody tr th:only-of-type {\n",
       "        vertical-align: middle;\n",
       "    }\n",
       "\n",
       "    .dataframe tbody tr th {\n",
       "        vertical-align: top;\n",
       "    }\n",
       "\n",
       "    .dataframe thead th {\n",
       "        text-align: right;\n",
       "    }\n",
       "</style>\n",
       "<table border=\"1\" class=\"dataframe\">\n",
       "  <thead>\n",
       "    <tr style=\"text-align: right;\">\n",
       "      <th></th>\n",
       "      <th>Nombre y apellido</th>\n",
       "      <th>Edad</th>\n",
       "      <th>País</th>\n",
       "      <th>Automovil</th>\n",
       "      <th>Vivienda</th>\n",
       "    </tr>\n",
       "  </thead>\n",
       "  <tbody>\n",
       "    <tr>\n",
       "      <th>0</th>\n",
       "      <td>Juan</td>\n",
       "      <td>35</td>\n",
       "      <td>Mexico</td>\n",
       "      <td>No</td>\n",
       "      <td>Si</td>\n",
       "    </tr>\n",
       "    <tr>\n",
       "      <th>6</th>\n",
       "      <td>Alan</td>\n",
       "      <td>29</td>\n",
       "      <td>Mexico</td>\n",
       "      <td>Si</td>\n",
       "      <td>Si</td>\n",
       "    </tr>\n",
       "    <tr>\n",
       "      <th>7</th>\n",
       "      <td>Magda</td>\n",
       "      <td>29</td>\n",
       "      <td>Mexico</td>\n",
       "      <td>No</td>\n",
       "      <td>Si</td>\n",
       "    </tr>\n",
       "  </tbody>\n",
       "</table>\n",
       "</div>"
      ],
      "text/plain": [
       "  Nombre y apellido  Edad    País Automovil Vivienda\n",
       "0              Juan    35  Mexico        No       Si\n",
       "6              Alan    29  Mexico        Si       Si\n",
       "7             Magda    29  Mexico        No       Si"
      ]
     },
     "execution_count": 29,
     "metadata": {},
     "output_type": "execute_result"
    }
   ],
   "source": [
    "#filtrado de valores\n",
    "dataframe[dataframe.País==\"Mexico\"]"
   ]
  },
  {
   "cell_type": "code",
   "execution_count": 31,
   "id": "5aeee184",
   "metadata": {},
   "outputs": [
    {
     "data": {
      "text/html": [
       "<div>\n",
       "<style scoped>\n",
       "    .dataframe tbody tr th:only-of-type {\n",
       "        vertical-align: middle;\n",
       "    }\n",
       "\n",
       "    .dataframe tbody tr th {\n",
       "        vertical-align: top;\n",
       "    }\n",
       "\n",
       "    .dataframe thead th {\n",
       "        text-align: right;\n",
       "    }\n",
       "</style>\n",
       "<table border=\"1\" class=\"dataframe\">\n",
       "  <thead>\n",
       "    <tr style=\"text-align: right;\">\n",
       "      <th></th>\n",
       "      <th>Nombre y apellido</th>\n",
       "      <th>Edad</th>\n",
       "      <th>País</th>\n",
       "      <th>Automovil</th>\n",
       "      <th>Vivienda</th>\n",
       "    </tr>\n",
       "  </thead>\n",
       "  <tbody>\n",
       "    <tr>\n",
       "      <th>2</th>\n",
       "      <td>Maria</td>\n",
       "      <td>28</td>\n",
       "      <td>Peru</td>\n",
       "      <td>Si</td>\n",
       "      <td>Si</td>\n",
       "    </tr>\n",
       "    <tr>\n",
       "      <th>5</th>\n",
       "      <td>Alvaro</td>\n",
       "      <td>33</td>\n",
       "      <td>Peru</td>\n",
       "      <td>Si</td>\n",
       "      <td>No</td>\n",
       "    </tr>\n",
       "  </tbody>\n",
       "</table>\n",
       "</div>"
      ],
      "text/plain": [
       "  Nombre y apellido  Edad  País Automovil Vivienda\n",
       "2             Maria    28  Peru        Si       Si\n",
       "5            Alvaro    33  Peru        Si       No"
      ]
     },
     "execution_count": 31,
     "metadata": {},
     "output_type": "execute_result"
    }
   ],
   "source": [
    "dataframe[(dataframe.País==\"Peru\") & (dataframe.Automovil ==\"Si\")]"
   ]
  },
  {
   "cell_type": "markdown",
   "id": "0c32d6b0",
   "metadata": {},
   "source": [
    "# contains and starts with\n"
   ]
  },
  {
   "cell_type": "code",
   "execution_count": 34,
   "id": "3f5e2b9b",
   "metadata": {},
   "outputs": [
    {
     "data": {
      "text/html": [
       "<div>\n",
       "<style scoped>\n",
       "    .dataframe tbody tr th:only-of-type {\n",
       "        vertical-align: middle;\n",
       "    }\n",
       "\n",
       "    .dataframe tbody tr th {\n",
       "        vertical-align: top;\n",
       "    }\n",
       "\n",
       "    .dataframe thead th {\n",
       "        text-align: right;\n",
       "    }\n",
       "</style>\n",
       "<table border=\"1\" class=\"dataframe\">\n",
       "  <thead>\n",
       "    <tr style=\"text-align: right;\">\n",
       "      <th></th>\n",
       "      <th>Nombre y apellido</th>\n",
       "      <th>Edad</th>\n",
       "      <th>País</th>\n",
       "      <th>Automovil</th>\n",
       "      <th>Vivienda</th>\n",
       "    </tr>\n",
       "  </thead>\n",
       "  <tbody>\n",
       "    <tr>\n",
       "      <th>0</th>\n",
       "      <td>Juan</td>\n",
       "      <td>35</td>\n",
       "      <td>Mexico</td>\n",
       "      <td>No</td>\n",
       "      <td>Si</td>\n",
       "    </tr>\n",
       "    <tr>\n",
       "      <th>6</th>\n",
       "      <td>Alan</td>\n",
       "      <td>29</td>\n",
       "      <td>Mexico</td>\n",
       "      <td>Si</td>\n",
       "      <td>Si</td>\n",
       "    </tr>\n",
       "    <tr>\n",
       "      <th>7</th>\n",
       "      <td>Magda</td>\n",
       "      <td>29</td>\n",
       "      <td>Mexico</td>\n",
       "      <td>No</td>\n",
       "      <td>Si</td>\n",
       "    </tr>\n",
       "  </tbody>\n",
       "</table>\n",
       "</div>"
      ],
      "text/plain": [
       "  Nombre y apellido  Edad    País Automovil Vivienda\n",
       "0              Juan    35  Mexico        No       Si\n",
       "6              Alan    29  Mexico        Si       Si\n",
       "7             Magda    29  Mexico        No       Si"
      ]
     },
     "execution_count": 34,
     "metadata": {},
     "output_type": "execute_result"
    }
   ],
   "source": [
    "dataframe[dataframe.País.str.contains('Mex')]"
   ]
  },
  {
   "cell_type": "code",
   "execution_count": 37,
   "id": "6f2851df",
   "metadata": {},
   "outputs": [
    {
     "data": {
      "text/html": [
       "<div>\n",
       "<style scoped>\n",
       "    .dataframe tbody tr th:only-of-type {\n",
       "        vertical-align: middle;\n",
       "    }\n",
       "\n",
       "    .dataframe tbody tr th {\n",
       "        vertical-align: top;\n",
       "    }\n",
       "\n",
       "    .dataframe thead th {\n",
       "        text-align: right;\n",
       "    }\n",
       "</style>\n",
       "<table border=\"1\" class=\"dataframe\">\n",
       "  <thead>\n",
       "    <tr style=\"text-align: right;\">\n",
       "      <th></th>\n",
       "      <th>Nombre y apellido</th>\n",
       "      <th>Edad</th>\n",
       "      <th>País</th>\n",
       "      <th>Automovil</th>\n",
       "      <th>Vivienda</th>\n",
       "    </tr>\n",
       "  </thead>\n",
       "  <tbody>\n",
       "    <tr>\n",
       "      <th>0</th>\n",
       "      <td>Juan</td>\n",
       "      <td>35</td>\n",
       "      <td>Mexico</td>\n",
       "      <td>No</td>\n",
       "      <td>Si</td>\n",
       "    </tr>\n",
       "    <tr>\n",
       "      <th>6</th>\n",
       "      <td>Alan</td>\n",
       "      <td>29</td>\n",
       "      <td>Mexico</td>\n",
       "      <td>Si</td>\n",
       "      <td>Si</td>\n",
       "    </tr>\n",
       "    <tr>\n",
       "      <th>7</th>\n",
       "      <td>Magda</td>\n",
       "      <td>29</td>\n",
       "      <td>Mexico</td>\n",
       "      <td>No</td>\n",
       "      <td>Si</td>\n",
       "    </tr>\n",
       "  </tbody>\n",
       "</table>\n",
       "</div>"
      ],
      "text/plain": [
       "  Nombre y apellido  Edad    País Automovil Vivienda\n",
       "0              Juan    35  Mexico        No       Si\n",
       "6              Alan    29  Mexico        Si       Si\n",
       "7             Magda    29  Mexico        No       Si"
      ]
     },
     "execution_count": 37,
     "metadata": {},
     "output_type": "execute_result"
    }
   ],
   "source": [
    "dataframe[dataframe.País.str.startswith('M')]"
   ]
  },
  {
   "cell_type": "markdown",
   "id": "1bf1dde7",
   "metadata": {},
   "source": [
    "# Modificar indices\n"
   ]
  },
  {
   "cell_type": "code",
   "execution_count": 48,
   "id": "6cf493dc",
   "metadata": {},
   "outputs": [],
   "source": [
    "dataframe.set_index('País', inplace=True)"
   ]
  },
  {
   "cell_type": "code",
   "execution_count": 49,
   "id": "0f835cb0",
   "metadata": {},
   "outputs": [
    {
     "data": {
      "text/html": [
       "<div>\n",
       "<style scoped>\n",
       "    .dataframe tbody tr th:only-of-type {\n",
       "        vertical-align: middle;\n",
       "    }\n",
       "\n",
       "    .dataframe tbody tr th {\n",
       "        vertical-align: top;\n",
       "    }\n",
       "\n",
       "    .dataframe thead th {\n",
       "        text-align: right;\n",
       "    }\n",
       "</style>\n",
       "<table border=\"1\" class=\"dataframe\">\n",
       "  <thead>\n",
       "    <tr style=\"text-align: right;\">\n",
       "      <th></th>\n",
       "      <th>Nombre y apellido</th>\n",
       "      <th>Edad</th>\n",
       "      <th>Automovil</th>\n",
       "      <th>Vivienda</th>\n",
       "    </tr>\n",
       "    <tr>\n",
       "      <th>País</th>\n",
       "      <th></th>\n",
       "      <th></th>\n",
       "      <th></th>\n",
       "      <th></th>\n",
       "    </tr>\n",
       "  </thead>\n",
       "  <tbody>\n",
       "    <tr>\n",
       "      <th>Mexico</th>\n",
       "      <td>Juan</td>\n",
       "      <td>35</td>\n",
       "      <td>No</td>\n",
       "      <td>Si</td>\n",
       "    </tr>\n",
       "    <tr>\n",
       "      <th>Honduras</th>\n",
       "      <td>Pedro</td>\n",
       "      <td>41</td>\n",
       "      <td>Si</td>\n",
       "      <td>No</td>\n",
       "    </tr>\n",
       "    <tr>\n",
       "      <th>Peru</th>\n",
       "      <td>Maria</td>\n",
       "      <td>28</td>\n",
       "      <td>Si</td>\n",
       "      <td>Si</td>\n",
       "    </tr>\n",
       "    <tr>\n",
       "      <th>Argentina</th>\n",
       "      <td>Laura</td>\n",
       "      <td>66</td>\n",
       "      <td>No</td>\n",
       "      <td>No</td>\n",
       "    </tr>\n",
       "    <tr>\n",
       "      <th>Argentina</th>\n",
       "      <td>Laura</td>\n",
       "      <td>66</td>\n",
       "      <td>No</td>\n",
       "      <td>No</td>\n",
       "    </tr>\n",
       "    <tr>\n",
       "      <th>Peru</th>\n",
       "      <td>Alvaro</td>\n",
       "      <td>33</td>\n",
       "      <td>Si</td>\n",
       "      <td>No</td>\n",
       "    </tr>\n",
       "    <tr>\n",
       "      <th>Mexico</th>\n",
       "      <td>Alan</td>\n",
       "      <td>29</td>\n",
       "      <td>Si</td>\n",
       "      <td>Si</td>\n",
       "    </tr>\n",
       "    <tr>\n",
       "      <th>Mexico</th>\n",
       "      <td>Magda</td>\n",
       "      <td>29</td>\n",
       "      <td>No</td>\n",
       "      <td>Si</td>\n",
       "    </tr>\n",
       "  </tbody>\n",
       "</table>\n",
       "</div>"
      ],
      "text/plain": [
       "          Nombre y apellido  Edad Automovil Vivienda\n",
       "País                                                \n",
       "Mexico                 Juan    35        No       Si\n",
       "Honduras              Pedro    41        Si       No\n",
       "Peru                  Maria    28        Si       Si\n",
       "Argentina             Laura    66        No       No\n",
       "Argentina             Laura    66        No       No\n",
       "Peru                 Alvaro    33        Si       No\n",
       "Mexico                 Alan    29        Si       Si\n",
       "Mexico                Magda    29        No       Si"
      ]
     },
     "execution_count": 49,
     "metadata": {},
     "output_type": "execute_result"
    }
   ],
   "source": [
    "dataframe"
   ]
  },
  {
   "cell_type": "code",
   "execution_count": 52,
   "id": "b4af0b2e",
   "metadata": {},
   "outputs": [],
   "source": [
    "dataframe.sort_index(inplace=True)"
   ]
  },
  {
   "cell_type": "code",
   "execution_count": 53,
   "id": "13203374",
   "metadata": {},
   "outputs": [
    {
     "data": {
      "text/html": [
       "<div>\n",
       "<style scoped>\n",
       "    .dataframe tbody tr th:only-of-type {\n",
       "        vertical-align: middle;\n",
       "    }\n",
       "\n",
       "    .dataframe tbody tr th {\n",
       "        vertical-align: top;\n",
       "    }\n",
       "\n",
       "    .dataframe thead th {\n",
       "        text-align: right;\n",
       "    }\n",
       "</style>\n",
       "<table border=\"1\" class=\"dataframe\">\n",
       "  <thead>\n",
       "    <tr style=\"text-align: right;\">\n",
       "      <th></th>\n",
       "      <th>Nombre y apellido</th>\n",
       "      <th>Edad</th>\n",
       "      <th>Automovil</th>\n",
       "      <th>Vivienda</th>\n",
       "    </tr>\n",
       "    <tr>\n",
       "      <th>País</th>\n",
       "      <th></th>\n",
       "      <th></th>\n",
       "      <th></th>\n",
       "      <th></th>\n",
       "    </tr>\n",
       "  </thead>\n",
       "  <tbody>\n",
       "    <tr>\n",
       "      <th>Argentina</th>\n",
       "      <td>Laura</td>\n",
       "      <td>66</td>\n",
       "      <td>No</td>\n",
       "      <td>No</td>\n",
       "    </tr>\n",
       "    <tr>\n",
       "      <th>Argentina</th>\n",
       "      <td>Laura</td>\n",
       "      <td>66</td>\n",
       "      <td>No</td>\n",
       "      <td>No</td>\n",
       "    </tr>\n",
       "    <tr>\n",
       "      <th>Honduras</th>\n",
       "      <td>Pedro</td>\n",
       "      <td>41</td>\n",
       "      <td>Si</td>\n",
       "      <td>No</td>\n",
       "    </tr>\n",
       "    <tr>\n",
       "      <th>Mexico</th>\n",
       "      <td>Juan</td>\n",
       "      <td>35</td>\n",
       "      <td>No</td>\n",
       "      <td>Si</td>\n",
       "    </tr>\n",
       "    <tr>\n",
       "      <th>Mexico</th>\n",
       "      <td>Alan</td>\n",
       "      <td>29</td>\n",
       "      <td>Si</td>\n",
       "      <td>Si</td>\n",
       "    </tr>\n",
       "    <tr>\n",
       "      <th>Mexico</th>\n",
       "      <td>Magda</td>\n",
       "      <td>29</td>\n",
       "      <td>No</td>\n",
       "      <td>Si</td>\n",
       "    </tr>\n",
       "    <tr>\n",
       "      <th>Peru</th>\n",
       "      <td>Maria</td>\n",
       "      <td>28</td>\n",
       "      <td>Si</td>\n",
       "      <td>Si</td>\n",
       "    </tr>\n",
       "    <tr>\n",
       "      <th>Peru</th>\n",
       "      <td>Alvaro</td>\n",
       "      <td>33</td>\n",
       "      <td>Si</td>\n",
       "      <td>No</td>\n",
       "    </tr>\n",
       "  </tbody>\n",
       "</table>\n",
       "</div>"
      ],
      "text/plain": [
       "          Nombre y apellido  Edad Automovil Vivienda\n",
       "País                                                \n",
       "Argentina             Laura    66        No       No\n",
       "Argentina             Laura    66        No       No\n",
       "Honduras              Pedro    41        Si       No\n",
       "Mexico                 Juan    35        No       Si\n",
       "Mexico                 Alan    29        Si       Si\n",
       "Mexico                Magda    29        No       Si\n",
       "Peru                  Maria    28        Si       Si\n",
       "Peru                 Alvaro    33        Si       No"
      ]
     },
     "execution_count": 53,
     "metadata": {},
     "output_type": "execute_result"
    }
   ],
   "source": [
    "dataframe"
   ]
  },
  {
   "cell_type": "code",
   "execution_count": 57,
   "id": "d7f33e21",
   "metadata": {},
   "outputs": [],
   "source": [
    "dataframe.reset_index(inplace=True)"
   ]
  },
  {
   "cell_type": "code",
   "execution_count": 62,
   "id": "1b14b8ca",
   "metadata": {},
   "outputs": [
    {
     "data": {
      "text/html": [
       "<div>\n",
       "<style scoped>\n",
       "    .dataframe tbody tr th:only-of-type {\n",
       "        vertical-align: middle;\n",
       "    }\n",
       "\n",
       "    .dataframe tbody tr th {\n",
       "        vertical-align: top;\n",
       "    }\n",
       "\n",
       "    .dataframe thead th {\n",
       "        text-align: right;\n",
       "    }\n",
       "</style>\n",
       "<table border=\"1\" class=\"dataframe\">\n",
       "  <thead>\n",
       "    <tr style=\"text-align: right;\">\n",
       "      <th></th>\n",
       "      <th>País</th>\n",
       "      <th>Nombre y apellido</th>\n",
       "      <th>Edad</th>\n",
       "      <th>Automovil</th>\n",
       "      <th>Vivienda</th>\n",
       "    </tr>\n",
       "  </thead>\n",
       "  <tbody>\n",
       "    <tr>\n",
       "      <th>0</th>\n",
       "      <td>Argentina</td>\n",
       "      <td>Laura</td>\n",
       "      <td>66</td>\n",
       "      <td>No</td>\n",
       "      <td>No</td>\n",
       "    </tr>\n",
       "    <tr>\n",
       "      <th>1</th>\n",
       "      <td>Argentina</td>\n",
       "      <td>Laura</td>\n",
       "      <td>66</td>\n",
       "      <td>No</td>\n",
       "      <td>No</td>\n",
       "    </tr>\n",
       "    <tr>\n",
       "      <th>2</th>\n",
       "      <td>Honduras</td>\n",
       "      <td>Pedro</td>\n",
       "      <td>41</td>\n",
       "      <td>Si</td>\n",
       "      <td>No</td>\n",
       "    </tr>\n",
       "    <tr>\n",
       "      <th>3</th>\n",
       "      <td>Mexico</td>\n",
       "      <td>Juan</td>\n",
       "      <td>35</td>\n",
       "      <td>No</td>\n",
       "      <td>Si</td>\n",
       "    </tr>\n",
       "    <tr>\n",
       "      <th>4</th>\n",
       "      <td>Mexico</td>\n",
       "      <td>Alan</td>\n",
       "      <td>29</td>\n",
       "      <td>Si</td>\n",
       "      <td>Si</td>\n",
       "    </tr>\n",
       "    <tr>\n",
       "      <th>5</th>\n",
       "      <td>Mexico</td>\n",
       "      <td>Magda</td>\n",
       "      <td>29</td>\n",
       "      <td>No</td>\n",
       "      <td>Si</td>\n",
       "    </tr>\n",
       "    <tr>\n",
       "      <th>6</th>\n",
       "      <td>Peru</td>\n",
       "      <td>Maria</td>\n",
       "      <td>28</td>\n",
       "      <td>Si</td>\n",
       "      <td>Si</td>\n",
       "    </tr>\n",
       "    <tr>\n",
       "      <th>7</th>\n",
       "      <td>Peru</td>\n",
       "      <td>Alvaro</td>\n",
       "      <td>33</td>\n",
       "      <td>Si</td>\n",
       "      <td>No</td>\n",
       "    </tr>\n",
       "  </tbody>\n",
       "</table>\n",
       "</div>"
      ],
      "text/plain": [
       "        País Nombre y apellido  Edad Automovil Vivienda\n",
       "0  Argentina             Laura    66        No       No\n",
       "1  Argentina             Laura    66        No       No\n",
       "2   Honduras             Pedro    41        Si       No\n",
       "3     Mexico              Juan    35        No       Si\n",
       "4     Mexico              Alan    29        Si       Si\n",
       "5     Mexico             Magda    29        No       Si\n",
       "6       Peru             Maria    28        Si       Si\n",
       "7       Peru            Alvaro    33        Si       No"
      ]
     },
     "execution_count": 62,
     "metadata": {},
     "output_type": "execute_result"
    }
   ],
   "source": [
    "dataframe"
   ]
  },
  {
   "cell_type": "markdown",
   "id": "ee738169",
   "metadata": {},
   "source": [
    "# localizar por indice, funciona solo con indice definido"
   ]
  },
  {
   "cell_type": "code",
   "execution_count": 58,
   "id": "06b766a2",
   "metadata": {},
   "outputs": [
    {
     "data": {
      "text/html": [
       "<div>\n",
       "<style scoped>\n",
       "    .dataframe tbody tr th:only-of-type {\n",
       "        vertical-align: middle;\n",
       "    }\n",
       "\n",
       "    .dataframe tbody tr th {\n",
       "        vertical-align: top;\n",
       "    }\n",
       "\n",
       "    .dataframe thead th {\n",
       "        text-align: right;\n",
       "    }\n",
       "</style>\n",
       "<table border=\"1\" class=\"dataframe\">\n",
       "  <thead>\n",
       "    <tr style=\"text-align: right;\">\n",
       "      <th></th>\n",
       "      <th>País</th>\n",
       "      <th>Nombre y apellido</th>\n",
       "      <th>Edad</th>\n",
       "      <th>Automovil</th>\n",
       "      <th>Vivienda</th>\n",
       "    </tr>\n",
       "  </thead>\n",
       "  <tbody>\n",
       "    <tr>\n",
       "      <th>6</th>\n",
       "      <td>Peru</td>\n",
       "      <td>Maria</td>\n",
       "      <td>28</td>\n",
       "      <td>Si</td>\n",
       "      <td>Si</td>\n",
       "    </tr>\n",
       "    <tr>\n",
       "      <th>7</th>\n",
       "      <td>Peru</td>\n",
       "      <td>Alvaro</td>\n",
       "      <td>33</td>\n",
       "      <td>Si</td>\n",
       "      <td>No</td>\n",
       "    </tr>\n",
       "  </tbody>\n",
       "</table>\n",
       "</div>"
      ],
      "text/plain": [
       "   País Nombre y apellido  Edad Automovil Vivienda\n",
       "6  Peru             Maria    28        Si       Si\n",
       "7  Peru            Alvaro    33        Si       No"
      ]
     },
     "execution_count": 58,
     "metadata": {},
     "output_type": "execute_result"
    }
   ],
   "source": [
    "dataframe.loc[dataframe.País =='Peru']"
   ]
  },
  {
   "cell_type": "markdown",
   "id": "5f9b7d32",
   "metadata": {},
   "source": [
    "# filtrado-"
   ]
  },
  {
   "cell_type": "code",
   "execution_count": 63,
   "id": "2cd9b785",
   "metadata": {},
   "outputs": [],
   "source": [
    "filtrar = dataframe[((dataframe.País == \"Mexico\")| (dataframe.País ==\"Argentina\")) & (dataframe.Automovil == 'Si')]"
   ]
  },
  {
   "cell_type": "code",
   "execution_count": 64,
   "id": "4b7e6f5f",
   "metadata": {},
   "outputs": [
    {
     "name": "stdout",
     "output_type": "stream",
     "text": [
      "     País Nombre y apellido  Edad Automovil Vivienda\n",
      "4  Mexico              Alan    29        Si       Si\n"
     ]
    }
   ],
   "source": [
    "print(filtrar)"
   ]
  },
  {
   "cell_type": "code",
   "execution_count": 65,
   "id": "f3d4a180",
   "metadata": {},
   "outputs": [],
   "source": [
    "filtrar = dataframe[((dataframe.País == \"Mexico\")| (dataframe.País ==\"Argentina\"))]"
   ]
  },
  {
   "cell_type": "code",
   "execution_count": 66,
   "id": "8c4483da",
   "metadata": {},
   "outputs": [
    {
     "data": {
      "text/html": [
       "<div>\n",
       "<style scoped>\n",
       "    .dataframe tbody tr th:only-of-type {\n",
       "        vertical-align: middle;\n",
       "    }\n",
       "\n",
       "    .dataframe tbody tr th {\n",
       "        vertical-align: top;\n",
       "    }\n",
       "\n",
       "    .dataframe thead th {\n",
       "        text-align: right;\n",
       "    }\n",
       "</style>\n",
       "<table border=\"1\" class=\"dataframe\">\n",
       "  <thead>\n",
       "    <tr style=\"text-align: right;\">\n",
       "      <th></th>\n",
       "      <th>País</th>\n",
       "      <th>Nombre y apellido</th>\n",
       "      <th>Edad</th>\n",
       "      <th>Automovil</th>\n",
       "      <th>Vivienda</th>\n",
       "    </tr>\n",
       "  </thead>\n",
       "  <tbody>\n",
       "    <tr>\n",
       "      <th>0</th>\n",
       "      <td>Argentina</td>\n",
       "      <td>Laura</td>\n",
       "      <td>66</td>\n",
       "      <td>No</td>\n",
       "      <td>No</td>\n",
       "    </tr>\n",
       "    <tr>\n",
       "      <th>1</th>\n",
       "      <td>Argentina</td>\n",
       "      <td>Laura</td>\n",
       "      <td>66</td>\n",
       "      <td>No</td>\n",
       "      <td>No</td>\n",
       "    </tr>\n",
       "    <tr>\n",
       "      <th>3</th>\n",
       "      <td>Mexico</td>\n",
       "      <td>Juan</td>\n",
       "      <td>35</td>\n",
       "      <td>No</td>\n",
       "      <td>Si</td>\n",
       "    </tr>\n",
       "    <tr>\n",
       "      <th>4</th>\n",
       "      <td>Mexico</td>\n",
       "      <td>Alan</td>\n",
       "      <td>29</td>\n",
       "      <td>Si</td>\n",
       "      <td>Si</td>\n",
       "    </tr>\n",
       "    <tr>\n",
       "      <th>5</th>\n",
       "      <td>Mexico</td>\n",
       "      <td>Magda</td>\n",
       "      <td>29</td>\n",
       "      <td>No</td>\n",
       "      <td>Si</td>\n",
       "    </tr>\n",
       "  </tbody>\n",
       "</table>\n",
       "</div>"
      ],
      "text/plain": [
       "        País Nombre y apellido  Edad Automovil Vivienda\n",
       "0  Argentina             Laura    66        No       No\n",
       "1  Argentina             Laura    66        No       No\n",
       "3     Mexico              Juan    35        No       Si\n",
       "4     Mexico              Alan    29        Si       Si\n",
       "5     Mexico             Magda    29        No       Si"
      ]
     },
     "execution_count": 66,
     "metadata": {},
     "output_type": "execute_result"
    }
   ],
   "source": [
    "filtrar"
   ]
  },
  {
   "cell_type": "code",
   "execution_count": 67,
   "id": "9346cb44",
   "metadata": {},
   "outputs": [],
   "source": [
    "agrupar = filtrar.groupby(['País', 'Automovil']).size()"
   ]
  },
  {
   "cell_type": "code",
   "execution_count": 68,
   "id": "79182a9a",
   "metadata": {},
   "outputs": [
    {
     "data": {
      "text/plain": [
       "País       Automovil\n",
       "Argentina  No           2\n",
       "Mexico     No           2\n",
       "           Si           1\n",
       "dtype: int64"
      ]
     },
     "execution_count": 68,
     "metadata": {},
     "output_type": "execute_result"
    }
   ],
   "source": [
    "agrupar"
   ]
  },
  {
   "cell_type": "code",
   "execution_count": 70,
   "id": "1e23c4ef",
   "metadata": {},
   "outputs": [
    {
     "data": {
      "text/html": [
       "<div>\n",
       "<style scoped>\n",
       "    .dataframe tbody tr th:only-of-type {\n",
       "        vertical-align: middle;\n",
       "    }\n",
       "\n",
       "    .dataframe tbody tr th {\n",
       "        vertical-align: top;\n",
       "    }\n",
       "\n",
       "    .dataframe thead th {\n",
       "        text-align: right;\n",
       "    }\n",
       "</style>\n",
       "<table border=\"1\" class=\"dataframe\">\n",
       "  <thead>\n",
       "    <tr style=\"text-align: right;\">\n",
       "      <th>Automovil</th>\n",
       "      <th>No</th>\n",
       "      <th>Si</th>\n",
       "    </tr>\n",
       "    <tr>\n",
       "      <th>País</th>\n",
       "      <th></th>\n",
       "      <th></th>\n",
       "    </tr>\n",
       "  </thead>\n",
       "  <tbody>\n",
       "    <tr>\n",
       "      <th>Argentina</th>\n",
       "      <td>2.0</td>\n",
       "      <td>NaN</td>\n",
       "    </tr>\n",
       "    <tr>\n",
       "      <th>Mexico</th>\n",
       "      <td>2.0</td>\n",
       "      <td>1.0</td>\n",
       "    </tr>\n",
       "  </tbody>\n",
       "</table>\n",
       "</div>"
      ],
      "text/plain": [
       "Automovil   No   Si\n",
       "País               \n",
       "Argentina  2.0  NaN\n",
       "Mexico     2.0  1.0"
      ]
     },
     "execution_count": 70,
     "metadata": {},
     "output_type": "execute_result"
    }
   ],
   "source": [
    "unstack = agrupar.unstack('Automovil')\n",
    "unstack"
   ]
  },
  {
   "cell_type": "code",
   "execution_count": null,
   "id": "877027f4",
   "metadata": {},
   "outputs": [],
   "source": []
  }
 ],
 "metadata": {
  "kernelspec": {
   "display_name": "Python 3 (ipykernel)",
   "language": "python",
   "name": "python3"
  },
  "language_info": {
   "codemirror_mode": {
    "name": "ipython",
    "version": 3
   },
   "file_extension": ".py",
   "mimetype": "text/x-python",
   "name": "python",
   "nbconvert_exporter": "python",
   "pygments_lexer": "ipython3",
   "version": "3.9.12"
  }
 },
 "nbformat": 4,
 "nbformat_minor": 5
}
